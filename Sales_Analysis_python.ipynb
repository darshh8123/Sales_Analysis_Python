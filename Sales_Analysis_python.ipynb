{
 "cells": [
  {
   "cell_type": "code",
   "execution_count": 1,
   "metadata": {
    "executionInfo": {
     "elapsed": 1547,
     "status": "ok",
     "timestamp": 1757312249315,
     "user": {
      "displayName": "Darshan Darsh",
      "userId": "13382084090601068611"
     },
     "user_tz": -330
    },
    "id": "0xC6eRTX9P5f"
   },
   "outputs": [],
   "source": [
    "import pandas as pd\n",
    "import numpy as np\n",
    "import matplotlib.pyplot as plt\n",
    "import seaborn as sns"
   ]
  },
  {
   "cell_type": "code",
   "execution_count": 8,
   "metadata": {
    "colab": {
     "base_uri": "https://localhost:8080/",
     "height": 92
    },
    "executionInfo": {
     "elapsed": 45945,
     "status": "ok",
     "timestamp": 1757312706816,
     "user": {
      "displayName": "Darshan Darsh",
      "userId": "13382084090601068611"
     },
     "user_tz": -330
    },
    "id": "u9FSOBtY-RyN",
    "outputId": "9eea7b86-ec63-4184-c136-444990d8ae90"
   },
   "outputs": [
    {
     "data": {
      "text/html": [
       "\n",
       "     <input type=\"file\" id=\"files-1c72a70d-4405-4b23-89a0-2f41a5ca9505\" name=\"files[]\" multiple disabled\n",
       "        style=\"border:none\" />\n",
       "     <output id=\"result-1c72a70d-4405-4b23-89a0-2f41a5ca9505\">\n",
       "      Upload widget is only available when the cell has been executed in the\n",
       "      current browser session. Please rerun this cell to enable.\n",
       "      </output>\n",
       "      <script>// Copyright 2017 Google LLC\n",
       "//\n",
       "// Licensed under the Apache License, Version 2.0 (the \"License\");\n",
       "// you may not use this file except in compliance with the License.\n",
       "// You may obtain a copy of the License at\n",
       "//\n",
       "//      http://www.apache.org/licenses/LICENSE-2.0\n",
       "//\n",
       "// Unless required by applicable law or agreed to in writing, software\n",
       "// distributed under the License is distributed on an \"AS IS\" BASIS,\n",
       "// WITHOUT WARRANTIES OR CONDITIONS OF ANY KIND, either express or implied.\n",
       "// See the License for the specific language governing permissions and\n",
       "// limitations under the License.\n",
       "\n",
       "/**\n",
       " * @fileoverview Helpers for google.colab Python module.\n",
       " */\n",
       "(function(scope) {\n",
       "function span(text, styleAttributes = {}) {\n",
       "  const element = document.createElement('span');\n",
       "  element.textContent = text;\n",
       "  for (const key of Object.keys(styleAttributes)) {\n",
       "    element.style[key] = styleAttributes[key];\n",
       "  }\n",
       "  return element;\n",
       "}\n",
       "\n",
       "// Max number of bytes which will be uploaded at a time.\n",
       "const MAX_PAYLOAD_SIZE = 100 * 1024;\n",
       "\n",
       "function _uploadFiles(inputId, outputId) {\n",
       "  const steps = uploadFilesStep(inputId, outputId);\n",
       "  const outputElement = document.getElementById(outputId);\n",
       "  // Cache steps on the outputElement to make it available for the next call\n",
       "  // to uploadFilesContinue from Python.\n",
       "  outputElement.steps = steps;\n",
       "\n",
       "  return _uploadFilesContinue(outputId);\n",
       "}\n",
       "\n",
       "// This is roughly an async generator (not supported in the browser yet),\n",
       "// where there are multiple asynchronous steps and the Python side is going\n",
       "// to poll for completion of each step.\n",
       "// This uses a Promise to block the python side on completion of each step,\n",
       "// then passes the result of the previous step as the input to the next step.\n",
       "function _uploadFilesContinue(outputId) {\n",
       "  const outputElement = document.getElementById(outputId);\n",
       "  const steps = outputElement.steps;\n",
       "\n",
       "  const next = steps.next(outputElement.lastPromiseValue);\n",
       "  return Promise.resolve(next.value.promise).then((value) => {\n",
       "    // Cache the last promise value to make it available to the next\n",
       "    // step of the generator.\n",
       "    outputElement.lastPromiseValue = value;\n",
       "    return next.value.response;\n",
       "  });\n",
       "}\n",
       "\n",
       "/**\n",
       " * Generator function which is called between each async step of the upload\n",
       " * process.\n",
       " * @param {string} inputId Element ID of the input file picker element.\n",
       " * @param {string} outputId Element ID of the output display.\n",
       " * @return {!Iterable<!Object>} Iterable of next steps.\n",
       " */\n",
       "function* uploadFilesStep(inputId, outputId) {\n",
       "  const inputElement = document.getElementById(inputId);\n",
       "  inputElement.disabled = false;\n",
       "\n",
       "  const outputElement = document.getElementById(outputId);\n",
       "  outputElement.innerHTML = '';\n",
       "\n",
       "  const pickedPromise = new Promise((resolve) => {\n",
       "    inputElement.addEventListener('change', (e) => {\n",
       "      resolve(e.target.files);\n",
       "    });\n",
       "  });\n",
       "\n",
       "  const cancel = document.createElement('button');\n",
       "  inputElement.parentElement.appendChild(cancel);\n",
       "  cancel.textContent = 'Cancel upload';\n",
       "  const cancelPromise = new Promise((resolve) => {\n",
       "    cancel.onclick = () => {\n",
       "      resolve(null);\n",
       "    };\n",
       "  });\n",
       "\n",
       "  // Wait for the user to pick the files.\n",
       "  const files = yield {\n",
       "    promise: Promise.race([pickedPromise, cancelPromise]),\n",
       "    response: {\n",
       "      action: 'starting',\n",
       "    }\n",
       "  };\n",
       "\n",
       "  cancel.remove();\n",
       "\n",
       "  // Disable the input element since further picks are not allowed.\n",
       "  inputElement.disabled = true;\n",
       "\n",
       "  if (!files) {\n",
       "    return {\n",
       "      response: {\n",
       "        action: 'complete',\n",
       "      }\n",
       "    };\n",
       "  }\n",
       "\n",
       "  for (const file of files) {\n",
       "    const li = document.createElement('li');\n",
       "    li.append(span(file.name, {fontWeight: 'bold'}));\n",
       "    li.append(span(\n",
       "        `(${file.type || 'n/a'}) - ${file.size} bytes, ` +\n",
       "        `last modified: ${\n",
       "            file.lastModifiedDate ? file.lastModifiedDate.toLocaleDateString() :\n",
       "                                    'n/a'} - `));\n",
       "    const percent = span('0% done');\n",
       "    li.appendChild(percent);\n",
       "\n",
       "    outputElement.appendChild(li);\n",
       "\n",
       "    const fileDataPromise = new Promise((resolve) => {\n",
       "      const reader = new FileReader();\n",
       "      reader.onload = (e) => {\n",
       "        resolve(e.target.result);\n",
       "      };\n",
       "      reader.readAsArrayBuffer(file);\n",
       "    });\n",
       "    // Wait for the data to be ready.\n",
       "    let fileData = yield {\n",
       "      promise: fileDataPromise,\n",
       "      response: {\n",
       "        action: 'continue',\n",
       "      }\n",
       "    };\n",
       "\n",
       "    // Use a chunked sending to avoid message size limits. See b/62115660.\n",
       "    let position = 0;\n",
       "    do {\n",
       "      const length = Math.min(fileData.byteLength - position, MAX_PAYLOAD_SIZE);\n",
       "      const chunk = new Uint8Array(fileData, position, length);\n",
       "      position += length;\n",
       "\n",
       "      const base64 = btoa(String.fromCharCode.apply(null, chunk));\n",
       "      yield {\n",
       "        response: {\n",
       "          action: 'append',\n",
       "          file: file.name,\n",
       "          data: base64,\n",
       "        },\n",
       "      };\n",
       "\n",
       "      let percentDone = fileData.byteLength === 0 ?\n",
       "          100 :\n",
       "          Math.round((position / fileData.byteLength) * 100);\n",
       "      percent.textContent = `${percentDone}% done`;\n",
       "\n",
       "    } while (position < fileData.byteLength);\n",
       "  }\n",
       "\n",
       "  // All done.\n",
       "  yield {\n",
       "    response: {\n",
       "      action: 'complete',\n",
       "    }\n",
       "  };\n",
       "}\n",
       "\n",
       "scope.google = scope.google || {};\n",
       "scope.google.colab = scope.google.colab || {};\n",
       "scope.google.colab._files = {\n",
       "  _uploadFiles,\n",
       "  _uploadFilesContinue,\n",
       "};\n",
       "})(self);\n",
       "</script> "
      ],
      "text/plain": [
       "<IPython.core.display.HTML object>"
      ]
     },
     "metadata": {},
     "output_type": "display_data"
    },
    {
     "name": "stdout",
     "output_type": "stream",
     "text": [
      "Saving Sales.xlsx to Sales (1).xlsx\n",
      "File 'Sales.xslx' uploaded successfully.\n"
     ]
    }
   ],
   "source": [
    "from google.colab import files\n",
    "\n",
    "# This creates an upload button in your Colab notebook\n",
    "uploaded = files.upload()\n",
    "\n",
    "print(f\"File '{'Sales.xslx'}' uploaded successfully.\")"
   ]
  },
  {
   "cell_type": "code",
   "execution_count": 9,
   "metadata": {
    "colab": {
     "base_uri": "https://localhost:8080/"
    },
    "executionInfo": {
     "elapsed": 26452,
     "status": "ok",
     "timestamp": 1757312745526,
     "user": {
      "displayName": "Darshan Darsh",
      "userId": "13382084090601068611"
     },
     "user_tz": -330
    },
    "id": "LHh7el8o_Kps",
    "outputId": "e29ecbe2-ff96-4492-dd5b-82dd96b8a3fe"
   },
   "outputs": [
    {
     "name": "stdout",
     "output_type": "stream",
     "text": [
      "        Date  Day     Month  Year  Customer_Age       Age_Group  \\\n",
      "0 2013-11-26   26  November  2013            19     Youth (<25)   \n",
      "1 2015-11-26   26  November  2015            19     Youth (<25)   \n",
      "2 2014-03-23   23     March  2014            49  Adults (35-64)   \n",
      "3 2016-03-23   23     March  2016            49  Adults (35-64)   \n",
      "4 2014-05-15   15       May  2014            47  Adults (35-64)   \n",
      "\n",
      "  Customer_Gender    Country             State Product_Category Sub_Category  \\\n",
      "0               M     Canada  British Columbia      Accessories   Bike Racks   \n",
      "1               M     Canada  British Columbia      Accessories   Bike Racks   \n",
      "2               M  Australia   New South Wales      Accessories   Bike Racks   \n",
      "3               M  Australia   New South Wales      Accessories   Bike Racks   \n",
      "4               F  Australia   New South Wales      Accessories   Bike Racks   \n",
      "\n",
      "               Product  Order_Quantity  Unit_Cost  Unit_Price  Profit  Cost  \\\n",
      "0  Hitch Rack - 4-Bike               8         45         120     590   360   \n",
      "1  Hitch Rack - 4-Bike               8         45         120     590   360   \n",
      "2  Hitch Rack - 4-Bike              23         45         120    1366  1035   \n",
      "3  Hitch Rack - 4-Bike              20         45         120    1188   900   \n",
      "4  Hitch Rack - 4-Bike               4         45         120     238   180   \n",
      "\n",
      "   Revenue  \n",
      "0      950  \n",
      "1      950  \n",
      "2     2401  \n",
      "3     2088  \n",
      "4      418  \n"
     ]
    }
   ],
   "source": [
    "# Get the filename of the uploaded file.\n",
    "file_name = next(iter(uploaded))\n",
    "\n",
    "df = pd.read_excel(file_name)\n",
    "print(df.head())"
   ]
  },
  {
   "cell_type": "code",
   "execution_count": 10,
   "metadata": {
    "colab": {
     "base_uri": "https://localhost:8080/"
    },
    "executionInfo": {
     "elapsed": 214,
     "status": "ok",
     "timestamp": 1757312746005,
     "user": {
      "displayName": "Darshan Darsh",
      "userId": "13382084090601068611"
     },
     "user_tz": -330
    },
    "id": "beFf-GTCACOc",
    "outputId": "66fa2d60-314d-4f8a-f13e-b6e29bc7bf7c"
   },
   "outputs": [
    {
     "name": "stdout",
     "output_type": "stream",
     "text": [
      "<class 'pandas.core.frame.DataFrame'>\n",
      "RangeIndex: 113036 entries, 0 to 113035\n",
      "Data columns (total 18 columns):\n",
      " #   Column            Non-Null Count   Dtype         \n",
      "---  ------            --------------   -----         \n",
      " 0   Date              113036 non-null  datetime64[ns]\n",
      " 1   Day               113036 non-null  int64         \n",
      " 2   Month             113036 non-null  object        \n",
      " 3   Year              113036 non-null  int64         \n",
      " 4   Customer_Age      113036 non-null  int64         \n",
      " 5   Age_Group         113036 non-null  object        \n",
      " 6   Customer_Gender   113036 non-null  object        \n",
      " 7   Country           113036 non-null  object        \n",
      " 8   State             113036 non-null  object        \n",
      " 9   Product_Category  113036 non-null  object        \n",
      " 10  Sub_Category      113036 non-null  object        \n",
      " 11  Product           113036 non-null  object        \n",
      " 12  Order_Quantity    113036 non-null  int64         \n",
      " 13  Unit_Cost         113036 non-null  int64         \n",
      " 14  Unit_Price        113036 non-null  int64         \n",
      " 15  Profit            113036 non-null  int64         \n",
      " 16  Cost              113036 non-null  int64         \n",
      " 17  Revenue           113036 non-null  int64         \n",
      "dtypes: datetime64[ns](1), int64(9), object(8)\n",
      "memory usage: 15.5+ MB\n"
     ]
    }
   ],
   "source": [
    "df.info()"
   ]
  },
  {
   "cell_type": "code",
   "execution_count": 11,
   "metadata": {
    "colab": {
     "base_uri": "https://localhost:8080/",
     "height": 650
    },
    "executionInfo": {
     "elapsed": 70,
     "status": "ok",
     "timestamp": 1757312766246,
     "user": {
      "displayName": "Darshan Darsh",
      "userId": "13382084090601068611"
     },
     "user_tz": -330
    },
    "id": "TxnV1qhHAJ_C",
    "outputId": "d9f35ee4-d7de-4ab0-a23d-3a689903f7fc"
   },
   "outputs": [
    {
     "data": {
      "text/html": [
       "<div>\n",
       "<style scoped>\n",
       "    .dataframe tbody tr th:only-of-type {\n",
       "        vertical-align: middle;\n",
       "    }\n",
       "\n",
       "    .dataframe tbody tr th {\n",
       "        vertical-align: top;\n",
       "    }\n",
       "\n",
       "    .dataframe thead th {\n",
       "        text-align: right;\n",
       "    }\n",
       "</style>\n",
       "<table border=\"1\" class=\"dataframe\">\n",
       "  <thead>\n",
       "    <tr style=\"text-align: right;\">\n",
       "      <th></th>\n",
       "      <th>0</th>\n",
       "    </tr>\n",
       "  </thead>\n",
       "  <tbody>\n",
       "    <tr>\n",
       "      <th>Date</th>\n",
       "      <td>0</td>\n",
       "    </tr>\n",
       "    <tr>\n",
       "      <th>Day</th>\n",
       "      <td>0</td>\n",
       "    </tr>\n",
       "    <tr>\n",
       "      <th>Month</th>\n",
       "      <td>0</td>\n",
       "    </tr>\n",
       "    <tr>\n",
       "      <th>Year</th>\n",
       "      <td>0</td>\n",
       "    </tr>\n",
       "    <tr>\n",
       "      <th>Customer_Age</th>\n",
       "      <td>0</td>\n",
       "    </tr>\n",
       "    <tr>\n",
       "      <th>Age_Group</th>\n",
       "      <td>0</td>\n",
       "    </tr>\n",
       "    <tr>\n",
       "      <th>Customer_Gender</th>\n",
       "      <td>0</td>\n",
       "    </tr>\n",
       "    <tr>\n",
       "      <th>Country</th>\n",
       "      <td>0</td>\n",
       "    </tr>\n",
       "    <tr>\n",
       "      <th>State</th>\n",
       "      <td>0</td>\n",
       "    </tr>\n",
       "    <tr>\n",
       "      <th>Product_Category</th>\n",
       "      <td>0</td>\n",
       "    </tr>\n",
       "    <tr>\n",
       "      <th>Sub_Category</th>\n",
       "      <td>0</td>\n",
       "    </tr>\n",
       "    <tr>\n",
       "      <th>Product</th>\n",
       "      <td>0</td>\n",
       "    </tr>\n",
       "    <tr>\n",
       "      <th>Order_Quantity</th>\n",
       "      <td>0</td>\n",
       "    </tr>\n",
       "    <tr>\n",
       "      <th>Unit_Cost</th>\n",
       "      <td>0</td>\n",
       "    </tr>\n",
       "    <tr>\n",
       "      <th>Unit_Price</th>\n",
       "      <td>0</td>\n",
       "    </tr>\n",
       "    <tr>\n",
       "      <th>Profit</th>\n",
       "      <td>0</td>\n",
       "    </tr>\n",
       "    <tr>\n",
       "      <th>Cost</th>\n",
       "      <td>0</td>\n",
       "    </tr>\n",
       "    <tr>\n",
       "      <th>Revenue</th>\n",
       "      <td>0</td>\n",
       "    </tr>\n",
       "  </tbody>\n",
       "</table>\n",
       "</div><br><label><b>dtype:</b> int64</label>"
      ],
      "text/plain": [
       "Date                0\n",
       "Day                 0\n",
       "Month               0\n",
       "Year                0\n",
       "Customer_Age        0\n",
       "Age_Group           0\n",
       "Customer_Gender     0\n",
       "Country             0\n",
       "State               0\n",
       "Product_Category    0\n",
       "Sub_Category        0\n",
       "Product             0\n",
       "Order_Quantity      0\n",
       "Unit_Cost           0\n",
       "Unit_Price          0\n",
       "Profit              0\n",
       "Cost                0\n",
       "Revenue             0\n",
       "dtype: int64"
      ]
     },
     "execution_count": 11,
     "metadata": {},
     "output_type": "execute_result"
    }
   ],
   "source": [
    "df.isnull().sum()"
   ]
  },
  {
   "cell_type": "code",
   "execution_count": 12,
   "metadata": {
    "executionInfo": {
     "elapsed": 13,
     "status": "ok",
     "timestamp": 1757312859351,
     "user": {
      "displayName": "Darshan Darsh",
      "userId": "13382084090601068611"
     },
     "user_tz": -330
    },
    "id": "yKHM6z_CAhuu"
   },
   "outputs": [],
   "source": [
    "# For this dataset, you could use 'State' or 'Customer_Country'\n",
    "df['City'] = df['State']  # Or however you decide to define 'City'"
   ]
  },
  {
   "cell_type": "code",
   "execution_count": 13,
   "metadata": {
    "colab": {
     "base_uri": "https://localhost:8080/",
     "height": 460
    },
    "executionInfo": {
     "elapsed": 40,
     "status": "ok",
     "timestamp": 1757312875584,
     "user": {
      "displayName": "Darshan Darsh",
      "userId": "13382084090601068611"
     },
     "user_tz": -330
    },
    "id": "0UdU0X-MAktj",
    "outputId": "f91dc1f0-8872-40fd-ecf4-1a4710d9f90b"
   },
   "outputs": [
    {
     "data": {
      "text/html": [
       "<div>\n",
       "<style scoped>\n",
       "    .dataframe tbody tr th:only-of-type {\n",
       "        vertical-align: middle;\n",
       "    }\n",
       "\n",
       "    .dataframe tbody tr th {\n",
       "        vertical-align: top;\n",
       "    }\n",
       "\n",
       "    .dataframe thead th {\n",
       "        text-align: right;\n",
       "    }\n",
       "</style>\n",
       "<table border=\"1\" class=\"dataframe\">\n",
       "  <thead>\n",
       "    <tr style=\"text-align: right;\">\n",
       "      <th></th>\n",
       "      <th>City</th>\n",
       "    </tr>\n",
       "  </thead>\n",
       "  <tbody>\n",
       "    <tr>\n",
       "      <th>0</th>\n",
       "      <td>British Columbia</td>\n",
       "    </tr>\n",
       "    <tr>\n",
       "      <th>1</th>\n",
       "      <td>British Columbia</td>\n",
       "    </tr>\n",
       "    <tr>\n",
       "      <th>2</th>\n",
       "      <td>New South Wales</td>\n",
       "    </tr>\n",
       "    <tr>\n",
       "      <th>3</th>\n",
       "      <td>New South Wales</td>\n",
       "    </tr>\n",
       "    <tr>\n",
       "      <th>4</th>\n",
       "      <td>New South Wales</td>\n",
       "    </tr>\n",
       "    <tr>\n",
       "      <th>...</th>\n",
       "      <td>...</td>\n",
       "    </tr>\n",
       "    <tr>\n",
       "      <th>113031</th>\n",
       "      <td>England</td>\n",
       "    </tr>\n",
       "    <tr>\n",
       "      <th>113032</th>\n",
       "      <td>Queensland</td>\n",
       "    </tr>\n",
       "    <tr>\n",
       "      <th>113033</th>\n",
       "      <td>Queensland</td>\n",
       "    </tr>\n",
       "    <tr>\n",
       "      <th>113034</th>\n",
       "      <td>Seine (Paris)</td>\n",
       "    </tr>\n",
       "    <tr>\n",
       "      <th>113035</th>\n",
       "      <td>Seine (Paris)</td>\n",
       "    </tr>\n",
       "  </tbody>\n",
       "</table>\n",
       "<p>113036 rows × 1 columns</p>\n",
       "</div><br><label><b>dtype:</b> object</label>"
      ],
      "text/plain": [
       "0         British Columbia\n",
       "1         British Columbia\n",
       "2          New South Wales\n",
       "3          New South Wales\n",
       "4          New South Wales\n",
       "                ...       \n",
       "113031             England\n",
       "113032          Queensland\n",
       "113033          Queensland\n",
       "113034       Seine (Paris)\n",
       "113035       Seine (Paris)\n",
       "Name: City, Length: 113036, dtype: object"
      ]
     },
     "execution_count": 13,
     "metadata": {},
     "output_type": "execute_result"
    }
   ],
   "source": [
    "df['City']"
   ]
  },
  {
   "cell_type": "code",
   "execution_count": 14,
   "metadata": {
    "colab": {
     "base_uri": "https://localhost:8080/",
     "height": 789
    },
    "executionInfo": {
     "elapsed": 410,
     "status": "ok",
     "timestamp": 1757313001661,
     "user": {
      "displayName": "Darshan Darsh",
      "userId": "13382084090601068611"
     },
     "user_tz": -330
    },
    "id": "9IEk_jzABFmU",
    "outputId": "c25a3238-8884-4b72-b16c-325f5e07150b"
   },
   "outputs": [
    {
     "name": "stdout",
     "output_type": "stream",
     "text": [
      "Top 10 best-selling products:\n",
      "Product\n",
      "Water Bottle - 30 oz.      164086\n",
      "Patch Kit/8 Patches        157583\n",
      "Mountain Tire Tube         102792\n",
      "AWC Logo Cap                67316\n",
      "Sport-100 Helmet, Red       63663\n",
      "Road Tire Tube              62296\n",
      "Fender Set - Mountain       62118\n",
      "Sport-100 Helmet, Black     62105\n",
      "Touring Tire Tube           56802\n",
      "Sport-100 Helmet, Blue      55895\n",
      "Name: Order_Quantity, dtype: int64\n"
     ]
    },
    {
     "data": {
      "image/png": "[encoded data removed]",
      "text/plain": [
       "<Figure size 1000x600 with 1 Axes>"
      ]
     },
     "metadata": {},
     "output_type": "display_data"
    }
   ],
   "source": [
    "# Best-selling products by quantity\n",
    "top_products = df.groupby('Product')['Order_Quantity'].sum().sort_values(ascending=False).head(10)\n",
    "print(f\"Top 10 best-selling products:\\n{top_products}\")\n",
    "plt.figure(figsize=(10, 6))\n",
    "sns.barplot(x=top_products.values, y=top_products.index)\n",
    "plt.title('Top 10 Best-Selling Products')\n",
    "plt.xlabel('Total Quantity Sold')\n",
    "plt.ylabel('Product')\n",
    "plt.show()"
   ]
  },
  {
   "cell_type": "code",
   "execution_count": 15,
   "metadata": {
    "colab": {
     "base_uri": "https://localhost:8080/",
     "height": 841
    },
    "executionInfo": {
     "elapsed": 347,
     "status": "ok",
     "timestamp": 1757313074447,
     "user": {
      "displayName": "Darshan Darsh",
      "userId": "13382084090601068611"
     },
     "user_tz": -330
    },
    "id": "zOVek8ZGBXZg",
    "outputId": "87eb19cc-b520-46ed-8c10-860366c4eb7c"
   },
   "outputs": [
    {
     "name": "stdout",
     "output_type": "stream",
     "text": [
      "\n",
      "Monthly revenue:\n",
      "Month\n",
      "April        7602750\n",
      "August       5711193\n",
      "December     9086931\n",
      "February     6834583\n",
      "January      7005895\n",
      "July         5721459\n",
      "June         9043008\n",
      "March        7347164\n",
      "May          8836763\n",
      "November     6244298\n",
      "October      5995079\n",
      "September    5841885\n",
      "Name: Revenue, dtype: int64\n"
     ]
    },
    {
     "data": {
      "image/png": "[encoded data removed]",
      "text/plain": [
       "<Figure size 1200x600 with 1 Axes>"
      ]
     },
     "metadata": {},
     "output_type": "display_data"
    }
   ],
   "source": [
    "#monthly revenue\n",
    "monthly_revenue = df.groupby('Month')['Revenue'].sum()\n",
    "print(f\"\\nMonthly revenue:\\n{monthly_revenue}\")\n",
    "plt.figure(figsize=(12, 6))\n",
    "sns.lineplot(x=monthly_revenue.index, y=monthly_revenue.values)\n",
    "plt.title('Monthly Sales Revenue')\n",
    "plt.xlabel('Month')\n",
    "plt.ylabel('Total Revenue')\n",
    "plt.xticks(range(1, 13))\n",
    "plt.grid(True)\n",
    "plt.show()"
   ]
  },
  {
   "cell_type": "code",
   "execution_count": 16,
   "metadata": {
    "colab": {
     "base_uri": "https://localhost:8080/",
     "height": 491
    },
    "executionInfo": {
     "elapsed": 23,
     "status": "ok",
     "timestamp": 1757313118862,
     "user": {
      "displayName": "Darshan Darsh",
      "userId": "13382084090601068611"
     },
     "user_tz": -330
    },
    "id": "M2zLa03HBh-U",
    "outputId": "c97c693c-7cdc-4b4b-f857-ec5fd57e30c7"
   },
   "outputs": [
    {
     "data": {
      "text/html": [
       "<div>\n",
       "<style scoped>\n",
       "    .dataframe tbody tr th:only-of-type {\n",
       "        vertical-align: middle;\n",
       "    }\n",
       "\n",
       "    .dataframe tbody tr th {\n",
       "        vertical-align: top;\n",
       "    }\n",
       "\n",
       "    .dataframe thead th {\n",
       "        text-align: right;\n",
       "    }\n",
       "</style>\n",
       "<table border=\"1\" class=\"dataframe\">\n",
       "  <thead>\n",
       "    <tr style=\"text-align: right;\">\n",
       "      <th></th>\n",
       "      <th>Profit</th>\n",
       "    </tr>\n",
       "    <tr>\n",
       "      <th>Product</th>\n",
       "      <th></th>\n",
       "    </tr>\n",
       "  </thead>\n",
       "  <tbody>\n",
       "    <tr>\n",
       "      <th>AWC Logo Cap</th>\n",
       "      <td>78008</td>\n",
       "    </tr>\n",
       "    <tr>\n",
       "      <th>All-Purpose Bike Stand</th>\n",
       "      <td>201064</td>\n",
       "    </tr>\n",
       "    <tr>\n",
       "      <th>Bike Wash - Dissolver</th>\n",
       "      <td>116008</td>\n",
       "    </tr>\n",
       "    <tr>\n",
       "      <th>Classic Vest, L</th>\n",
       "      <td>157319</td>\n",
       "    </tr>\n",
       "    <tr>\n",
       "      <th>Classic Vest, M</th>\n",
       "      <td>161740</td>\n",
       "    </tr>\n",
       "    <tr>\n",
       "      <th>...</th>\n",
       "      <td>...</td>\n",
       "    </tr>\n",
       "    <tr>\n",
       "      <th>Touring-3000 Yellow, 62</th>\n",
       "      <td>18371</td>\n",
       "    </tr>\n",
       "    <tr>\n",
       "      <th>Water Bottle - 30 oz.</th>\n",
       "      <td>417843</td>\n",
       "    </tr>\n",
       "    <tr>\n",
       "      <th>Women's Mountain Shorts, L</th>\n",
       "      <td>286059</td>\n",
       "    </tr>\n",
       "    <tr>\n",
       "      <th>Women's Mountain Shorts, M</th>\n",
       "      <td>394913</td>\n",
       "    </tr>\n",
       "    <tr>\n",
       "      <th>Women's Mountain Shorts, S</th>\n",
       "      <td>355189</td>\n",
       "    </tr>\n",
       "  </tbody>\n",
       "</table>\n",
       "<p>130 rows × 1 columns</p>\n",
       "</div><br><label><b>dtype:</b> int64</label>"
      ],
      "text/plain": [
       "Product\n",
       "AWC Logo Cap                   78008\n",
       "All-Purpose Bike Stand        201064\n",
       "Bike Wash - Dissolver         116008\n",
       "Classic Vest, L               157319\n",
       "Classic Vest, M               161740\n",
       "                               ...  \n",
       "Touring-3000 Yellow, 62        18371\n",
       "Water Bottle - 30 oz.         417843\n",
       "Women's Mountain Shorts, L    286059\n",
       "Women's Mountain Shorts, M    394913\n",
       "Women's Mountain Shorts, S    355189\n",
       "Name: Profit, Length: 130, dtype: int64"
      ]
     },
     "execution_count": 16,
     "metadata": {},
     "output_type": "execute_result"
    }
   ],
   "source": [
    "df.groupby('Product')['Profit'].sum()"
   ]
  },
  {
   "cell_type": "code",
   "execution_count": 21,
   "metadata": {
    "colab": {
     "base_uri": "https://localhost:8080/"
    },
    "executionInfo": {
     "elapsed": 23,
     "status": "ok",
     "timestamp": 1757313391772,
     "user": {
      "displayName": "Darshan Darsh",
      "userId": "13382084090601068611"
     },
     "user_tz": -330
    },
    "id": "ZeNMme64CFg_",
    "outputId": "7342b0a0-b801-40f1-e7c9-b921815c7808"
   },
   "outputs": [
    {
     "name": "stdout",
     "output_type": "stream",
     "text": [
      "--- Revenue by Age Group ---\n",
      "Age_Group\n",
      "Adults (35-64)          42584153\n",
      "Young Adults (25-34)    30655614\n",
      "Youth (<25)             11723199\n",
      "Seniors (64+)             308042\n",
      "Name: Revenue, dtype: int64\n"
     ]
    }
   ],
   "source": [
    "# Group by Age_Group and find total revenue\n",
    "revenue_by_age_group = df.groupby('Age_Group')['Revenue'].sum().sort_values(ascending=False)\n",
    "print(\"--- Revenue by Age Group ---\")\n",
    "print(revenue_by_age_group)"
   ]
  },
  {
   "cell_type": "code",
   "execution_count": 20,
   "metadata": {
    "colab": {
     "base_uri": "https://localhost:8080/"
    },
    "executionInfo": {
     "elapsed": 52,
     "status": "ok",
     "timestamp": 1757313376331,
     "user": {
      "displayName": "Darshan Darsh",
      "userId": "13382084090601068611"
     },
     "user_tz": -330
    },
    "id": "i79xzIgZChMa",
    "outputId": "273a46d1-f8cd-4660-a3fa-8ddb9b70d4ba"
   },
   "outputs": [
    {
     "name": "stdout",
     "output_type": "stream",
     "text": [
      "\n",
      "--- Revenue by Customer Country ---\n",
      "Country\n",
      "United States     27975547\n",
      "Australia         21302059\n",
      "United Kingdom    10646196\n",
      "Germany            8978596\n",
      "France             8432872\n",
      "Canada             7935738\n",
      "Name: Revenue, dtype: int64\n"
     ]
    }
   ],
   "source": [
    "# Group by Customer_Country and find total revenue\n",
    "revenue_by_country = df.groupby('Country')['Revenue'].sum().sort_values(ascending=False)\n",
    "print(\"\\n--- Revenue by Customer Country ---\")\n",
    "print(revenue_by_country)"
   ]
  },
  {
   "cell_type": "code",
   "execution_count": 22,
   "metadata": {
    "colab": {
     "base_uri": "https://localhost:8080/"
    },
    "executionInfo": {
     "elapsed": 33,
     "status": "ok",
     "timestamp": 1757313426462,
     "user": {
      "displayName": "Darshan Darsh",
      "userId": "13382084090601068611"
     },
     "user_tz": -330
    },
    "id": "iMr-clv4Ctnk",
    "outputId": "1fd2d7b8-b078-4214-9fb2-26dbc95fae2b"
   },
   "outputs": [
    {
     "name": "stdout",
     "output_type": "stream",
     "text": [
      "\n",
      "--- Product Profitability ---\n",
      "                         Revenue     Cost   Profit\n",
      "Product                                           \n",
      "Mountain-200 Black, 38   3366248  2055784  1310464\n",
      "Road-150 Red, 62         3829416  2585661  1243755\n",
      "Mountain-200 Silver, 42  3081078  1849626  1231452\n",
      "Sport-100 Helmet, Red    2019021   827619  1191402\n",
      "Mountain-200 Silver, 38  3035442  1869882  1165560\n",
      "...                          ...      ...      ...\n",
      "Touring-3000 Yellow, 62    56634    38263    18371\n",
      "Touring-3000 Blue, 50      45694    32270    13424\n",
      "Mountain-500 Silver, 48    25794    16016     9778\n",
      "Road-650 Red, 52           34669    25324     9345\n",
      "Mountain-500 Black, 52     19287    11800     7487\n",
      "\n",
      "[130 rows x 3 columns]\n"
     ]
    }
   ],
   "source": [
    "# Group by 'Product' and sum both 'Revenue' and 'Cost'\n",
    "product_profit_analysis = df.groupby('Product')[['Revenue', 'Cost']].sum()\n",
    "\n",
    "# Calculate the 'Profit' for each product\n",
    "product_profit_analysis['Profit'] = product_profit_analysis['Revenue'] - product_profit_analysis['Cost']\n",
    "\n",
    "# Sort the results to find the most and least profitable products\n",
    "product_profit_analysis = product_profit_analysis.sort_values(by='Profit', ascending=False)\n",
    "print(\"\\n--- Product Profitability ---\")\n",
    "print(product_profit_analysis)"
   ]
  }
 ],
 "metadata": {},
 "nbformat": 4,
 "nbformat_minor": 0
}
